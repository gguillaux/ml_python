{
  "nbformat": 4,
  "nbformat_minor": 0,
  "metadata": {
    "colab": {
      "name": "fiap - modelos de ia e ml - exercicio 1.1",
      "provenance": [],
      "collapsed_sections": [],
      "mount_file_id": "1j5kMalX30kVqjHVUKlNpg98enjganoCZ",
      "authorship_tag": "ABX9TyPljQQsqOLRMMaUE48Um6wA",
      "include_colab_link": true
    },
    "kernelspec": {
      "name": "python3",
      "display_name": "Python 3"
    }
  },
  "cells": [
    {
      "cell_type": "markdown",
      "metadata": {
        "id": "view-in-github",
        "colab_type": "text"
      },
      "source": [
        "<a href=\"https://colab.research.google.com/github/gguillaux/ml_python/blob/master/fiap_modelos_de_ia_e_ml_exercicio_1_1.ipynb\" target=\"_parent\"><img src=\"https://colab.research.google.com/assets/colab-badge.svg\" alt=\"Open In Colab\"/></a>"
      ]
    },
    {
      "cell_type": "markdown",
      "metadata": {
        "id": "5Dw4ZSdLsk_X",
        "colab_type": "text"
      },
      "source": [
        "## Exercício #1.1\n",
        "* Utilizando o arquivo papafrescaSimNao.csv que é um recorte de teste deste projeto, descubra algumas regras de associação relacionadas ao consumo de batata, procure a relação de regras relacionadas ao questionamento da batata engordar ou não.Dica: Procure utilizar uma confiança acima de 50% e verifique a quantidade de regras geradas antes de inspeciona-las.\n"
      ]
    },
    {
      "cell_type": "markdown",
      "metadata": {
        "id": "nGN6XBm-qDyi",
        "colab_type": "text"
      },
      "source": [
        ""
      ]
    },
    {
      "cell_type": "code",
      "metadata": {
        "id": "oCQGFHmLuUVJ",
        "colab_type": "code",
        "colab": {
          "base_uri": "https://localhost:8080/",
          "height": 52
        },
        "outputId": "f28b82f6-22e2-46f7-cab8-6d1982bd320f"
      },
      "source": [
        "# importa bibliotecas\n",
        "import os\n",
        "import pandas as pd\n",
        "import seaborn as sns\n",
        "from matplotlib import pyplot as plt\n",
        "from mlxtend.preprocessing import TransactionEncoder\n",
        "from mlxtend.frequent_patterns import apriori\n",
        "from mlxtend.frequent_patterns import association_rules"
      ],
      "execution_count": 1,
      "outputs": [
        {
          "output_type": "stream",
          "text": [
            "/usr/local/lib/python3.6/dist-packages/statsmodels/tools/_testing.py:19: FutureWarning: pandas.util.testing is deprecated. Use the functions in the public API at pandas.testing instead.\n",
            "  import pandas.util.testing as tm\n"
          ],
          "name": "stderr"
        }
      ]
    },
    {
      "cell_type": "code",
      "metadata": {
        "id": "yAvflmG9uPKS",
        "colab_type": "code",
        "outputId": "2426c916-4089-49dc-f700-1411c017a073",
        "colab": {
          "base_uri": "https://localhost:8080/",
          "height": 206
        }
      },
      "source": [
        "# carrega csv\n",
        "papa = pd.read_csv(\"./drive/My Drive/fiap/datasets/papafrescaSimNao.csv\",\n",
        "                   sep=\";\")\n",
        "papa.head()"
      ],
      "execution_count": 2,
      "outputs": [
        {
          "output_type": "execute_result",
          "data": {
            "text/html": [
              "<div>\n",
              "<style scoped>\n",
              "    .dataframe tbody tr th:only-of-type {\n",
              "        vertical-align: middle;\n",
              "    }\n",
              "\n",
              "    .dataframe tbody tr th {\n",
              "        vertical-align: top;\n",
              "    }\n",
              "\n",
              "    .dataframe thead th {\n",
              "        text-align: right;\n",
              "    }\n",
              "</style>\n",
              "<table border=\"1\" class=\"dataframe\">\n",
              "  <thead>\n",
              "    <tr style=\"text-align: right;\">\n",
              "      <th></th>\n",
              "      <th>TV</th>\n",
              "      <th>RADIO</th>\n",
              "      <th>PRENSA</th>\n",
              "      <th>INTERNET</th>\n",
              "      <th>Lapapaessaludable</th>\n",
              "      <th>Lapapadaenergia</th>\n",
              "      <th>Lapapaengorda</th>\n",
              "      <th>Lapapaeseconomica</th>\n",
              "      <th>Vapor</th>\n",
              "      <th>Sopa</th>\n",
              "      <th>Pure</th>\n",
              "      <th>Fritas</th>\n",
              "      <th>Sudada</th>\n",
              "      <th>Salada</th>\n",
              "      <th>OtrasFormas</th>\n",
              "      <th>SOPAS</th>\n",
              "      <th>GRANOS</th>\n",
              "      <th>CARNE</th>\n",
              "      <th>HUEVOS</th>\n",
              "      <th>ARROZ</th>\n",
              "      <th>ENSALADA</th>\n",
              "      <th>NADAONINGUNO</th>\n",
              "      <th>OTROS</th>\n",
              "    </tr>\n",
              "  </thead>\n",
              "  <tbody>\n",
              "    <tr>\n",
              "      <th>0</th>\n",
              "      <td>Nao</td>\n",
              "      <td>Nao</td>\n",
              "      <td>Nao</td>\n",
              "      <td>Nao</td>\n",
              "      <td>Nao</td>\n",
              "      <td>Nao</td>\n",
              "      <td>Sim</td>\n",
              "      <td>Sim</td>\n",
              "      <td>Nao</td>\n",
              "      <td>Nao</td>\n",
              "      <td>Nao</td>\n",
              "      <td>Nao</td>\n",
              "      <td>Sim</td>\n",
              "      <td>Nao</td>\n",
              "      <td>Nao</td>\n",
              "      <td>Nao</td>\n",
              "      <td>Nao</td>\n",
              "      <td>Sim</td>\n",
              "      <td>Nao</td>\n",
              "      <td>Sim</td>\n",
              "      <td>Nao</td>\n",
              "      <td>Nao</td>\n",
              "      <td>Nao</td>\n",
              "    </tr>\n",
              "    <tr>\n",
              "      <th>1</th>\n",
              "      <td>Nao</td>\n",
              "      <td>Nao</td>\n",
              "      <td>Nao</td>\n",
              "      <td>Nao</td>\n",
              "      <td>Nao</td>\n",
              "      <td>Nao</td>\n",
              "      <td>Sim</td>\n",
              "      <td>Sim</td>\n",
              "      <td>Nao</td>\n",
              "      <td>Nao</td>\n",
              "      <td>Nao</td>\n",
              "      <td>Sim</td>\n",
              "      <td>Nao</td>\n",
              "      <td>Nao</td>\n",
              "      <td>Nao</td>\n",
              "      <td>Nao</td>\n",
              "      <td>Nao</td>\n",
              "      <td>Nao</td>\n",
              "      <td>Nao</td>\n",
              "      <td>Sim</td>\n",
              "      <td>Nao</td>\n",
              "      <td>Nao</td>\n",
              "      <td>Sim</td>\n",
              "    </tr>\n",
              "    <tr>\n",
              "      <th>2</th>\n",
              "      <td>Nao</td>\n",
              "      <td>Nao</td>\n",
              "      <td>Nao</td>\n",
              "      <td>Nao</td>\n",
              "      <td>Nao</td>\n",
              "      <td>Nao</td>\n",
              "      <td>Sim</td>\n",
              "      <td>Sim</td>\n",
              "      <td>Nao</td>\n",
              "      <td>Nao</td>\n",
              "      <td>Nao</td>\n",
              "      <td>Nao</td>\n",
              "      <td>Nao</td>\n",
              "      <td>Nao</td>\n",
              "      <td>Sim</td>\n",
              "      <td>Nao</td>\n",
              "      <td>Nao</td>\n",
              "      <td>Nao</td>\n",
              "      <td>Nao</td>\n",
              "      <td>Nao</td>\n",
              "      <td>Nao</td>\n",
              "      <td>Sim</td>\n",
              "      <td>Nao</td>\n",
              "    </tr>\n",
              "    <tr>\n",
              "      <th>3</th>\n",
              "      <td>Nao</td>\n",
              "      <td>Nao</td>\n",
              "      <td>Nao</td>\n",
              "      <td>Nao</td>\n",
              "      <td>Nao</td>\n",
              "      <td>Nao</td>\n",
              "      <td>Sim</td>\n",
              "      <td>Sim</td>\n",
              "      <td>Nao</td>\n",
              "      <td>Nao</td>\n",
              "      <td>Nao</td>\n",
              "      <td>Nao</td>\n",
              "      <td>Sim</td>\n",
              "      <td>Nao</td>\n",
              "      <td>Nao</td>\n",
              "      <td>Nao</td>\n",
              "      <td>Nao</td>\n",
              "      <td>Nao</td>\n",
              "      <td>Nao</td>\n",
              "      <td>Sim</td>\n",
              "      <td>Nao</td>\n",
              "      <td>Nao</td>\n",
              "      <td>Sim</td>\n",
              "    </tr>\n",
              "    <tr>\n",
              "      <th>4</th>\n",
              "      <td>Nao</td>\n",
              "      <td>Nao</td>\n",
              "      <td>Nao</td>\n",
              "      <td>Nao</td>\n",
              "      <td>Nao</td>\n",
              "      <td>Nao</td>\n",
              "      <td>Sim</td>\n",
              "      <td>Sim</td>\n",
              "      <td>Nao</td>\n",
              "      <td>Nao</td>\n",
              "      <td>Nao</td>\n",
              "      <td>Nao</td>\n",
              "      <td>Nao</td>\n",
              "      <td>Sim</td>\n",
              "      <td>Nao</td>\n",
              "      <td>Nao</td>\n",
              "      <td>Nao</td>\n",
              "      <td>Sim</td>\n",
              "      <td>Nao</td>\n",
              "      <td>Sim</td>\n",
              "      <td>Nao</td>\n",
              "      <td>Nao</td>\n",
              "      <td>Nao</td>\n",
              "    </tr>\n",
              "  </tbody>\n",
              "</table>\n",
              "</div>"
            ],
            "text/plain": [
              "    TV RADIO PRENSA INTERNET  ... ARROZ ENSALADA NADAONINGUNO OTROS\n",
              "0  Nao   Nao    Nao      Nao  ...   Sim      Nao          Nao   Nao\n",
              "1  Nao   Nao    Nao      Nao  ...   Sim      Nao          Nao   Sim\n",
              "2  Nao   Nao    Nao      Nao  ...   Nao      Nao          Sim   Nao\n",
              "3  Nao   Nao    Nao      Nao  ...   Sim      Nao          Nao   Sim\n",
              "4  Nao   Nao    Nao      Nao  ...   Sim      Nao          Nao   Nao\n",
              "\n",
              "[5 rows x 23 columns]"
            ]
          },
          "metadata": {
            "tags": []
          },
          "execution_count": 2
        }
      ]
    },
    {
      "cell_type": "code",
      "metadata": {
        "id": "e_cY-KdKnmGj",
        "colab_type": "code",
        "outputId": "543d838b-b060-4769-eaad-571cff17681c",
        "colab": {
          "base_uri": "https://localhost:8080/",
          "height": 34
        }
      },
      "source": [
        "# verifica valores unicos no dataframe\n",
        "pd.unique(papa.values.ravel())"
      ],
      "execution_count": 3,
      "outputs": [
        {
          "output_type": "execute_result",
          "data": {
            "text/plain": [
              "array(['Nao', 'Sim'], dtype=object)"
            ]
          },
          "metadata": {
            "tags": []
          },
          "execution_count": 3
        }
      ]
    },
    {
      "cell_type": "code",
      "metadata": {
        "id": "ChfntYABoeY0",
        "colab_type": "code",
        "colab": {}
      },
      "source": [
        "# substitui os valores por booleanos, similar ao que o TransationEncoder faria\n",
        "# isso forca um tipo de one hot-encoding\n",
        "papa.replace({'Nao': False, 'Sim': True}, inplace=True)"
      ],
      "execution_count": 0,
      "outputs": []
    },
    {
      "cell_type": "code",
      "metadata": {
        "id": "2hOlR8PZulqx",
        "colab_type": "code",
        "outputId": "8d564be5-3c23-46c4-d4b3-879ed6b1fb78",
        "colab": {
          "base_uri": "https://localhost:8080/",
          "height": 34
        }
      },
      "source": [
        "# ve num de linhas de colunas\n",
        "papa.shape"
      ],
      "execution_count": 5,
      "outputs": [
        {
          "output_type": "execute_result",
          "data": {
            "text/plain": [
              "(20869, 23)"
            ]
          },
          "metadata": {
            "tags": []
          },
          "execution_count": 5
        }
      ]
    },
    {
      "cell_type": "code",
      "metadata": {
        "id": "lqbyCbynwKMd",
        "colab_type": "code",
        "outputId": "0c5061ce-2910-4f69-9371-06fc41b02221",
        "colab": {
          "base_uri": "https://localhost:8080/",
          "height": 538
        }
      },
      "source": [
        "# observa os tipos de dados\n",
        "papa.info()"
      ],
      "execution_count": 6,
      "outputs": [
        {
          "output_type": "stream",
          "text": [
            "<class 'pandas.core.frame.DataFrame'>\n",
            "RangeIndex: 20869 entries, 0 to 20868\n",
            "Data columns (total 23 columns):\n",
            " #   Column             Non-Null Count  Dtype\n",
            "---  ------             --------------  -----\n",
            " 0   TV                 20869 non-null  bool \n",
            " 1   RADIO              20869 non-null  bool \n",
            " 2   PRENSA             20869 non-null  bool \n",
            " 3   INTERNET           20869 non-null  bool \n",
            " 4   Lapapaessaludable  20869 non-null  bool \n",
            " 5   Lapapadaenergia    20869 non-null  bool \n",
            " 6   Lapapaengorda      20869 non-null  bool \n",
            " 7   Lapapaeseconomica  20869 non-null  bool \n",
            " 8   Vapor              20869 non-null  bool \n",
            " 9   Sopa               20869 non-null  bool \n",
            " 10  Pure               20869 non-null  bool \n",
            " 11  Fritas             20869 non-null  bool \n",
            " 12  Sudada             20869 non-null  bool \n",
            " 13  Salada             20869 non-null  bool \n",
            " 14  OtrasFormas        20869 non-null  bool \n",
            " 15  SOPAS              20869 non-null  bool \n",
            " 16  GRANOS             20869 non-null  bool \n",
            " 17  CARNE              20869 non-null  bool \n",
            " 18  HUEVOS             20869 non-null  bool \n",
            " 19  ARROZ              20869 non-null  bool \n",
            " 20  ENSALADA           20869 non-null  bool \n",
            " 21  NADAONINGUNO       20869 non-null  bool \n",
            " 22  OTROS              20869 non-null  bool \n",
            "dtypes: bool(23)\n",
            "memory usage: 468.9 KB\n"
          ],
          "name": "stdout"
        }
      ]
    },
    {
      "cell_type": "code",
      "metadata": {
        "id": "nYhkUoCawNr1",
        "colab_type": "code",
        "outputId": "d86c2904-580f-4441-f0fb-8723547458eb",
        "colab": {
          "base_uri": "https://localhost:8080/",
          "height": 434
        }
      },
      "source": [
        "# valida se ha valores nulos\n",
        "papa.isnull().sum()"
      ],
      "execution_count": 7,
      "outputs": [
        {
          "output_type": "execute_result",
          "data": {
            "text/plain": [
              "TV                   0\n",
              "RADIO                0\n",
              "PRENSA               0\n",
              "INTERNET             0\n",
              "Lapapaessaludable    0\n",
              "Lapapadaenergia      0\n",
              "Lapapaengorda        0\n",
              "Lapapaeseconomica    0\n",
              "Vapor                0\n",
              "Sopa                 0\n",
              "Pure                 0\n",
              "Fritas               0\n",
              "Sudada               0\n",
              "Salada               0\n",
              "OtrasFormas          0\n",
              "SOPAS                0\n",
              "GRANOS               0\n",
              "CARNE                0\n",
              "HUEVOS               0\n",
              "ARROZ                0\n",
              "ENSALADA             0\n",
              "NADAONINGUNO         0\n",
              "OTROS                0\n",
              "dtype: int64"
            ]
          },
          "metadata": {
            "tags": []
          },
          "execution_count": 7
        }
      ]
    },
    {
      "cell_type": "code",
      "metadata": {
        "id": "GLBBwiC-wPiV",
        "colab_type": "code",
        "outputId": "25d8ef1b-7875-432c-f96b-b2ef28730256",
        "colab": {
          "base_uri": "https://localhost:8080/",
          "height": 195
        }
      },
      "source": [
        "# verifica a distribuicao das variaveis\n",
        "papa.describe()"
      ],
      "execution_count": 8,
      "outputs": [
        {
          "output_type": "execute_result",
          "data": {
            "text/html": [
              "<div>\n",
              "<style scoped>\n",
              "    .dataframe tbody tr th:only-of-type {\n",
              "        vertical-align: middle;\n",
              "    }\n",
              "\n",
              "    .dataframe tbody tr th {\n",
              "        vertical-align: top;\n",
              "    }\n",
              "\n",
              "    .dataframe thead th {\n",
              "        text-align: right;\n",
              "    }\n",
              "</style>\n",
              "<table border=\"1\" class=\"dataframe\">\n",
              "  <thead>\n",
              "    <tr style=\"text-align: right;\">\n",
              "      <th></th>\n",
              "      <th>TV</th>\n",
              "      <th>RADIO</th>\n",
              "      <th>PRENSA</th>\n",
              "      <th>INTERNET</th>\n",
              "      <th>Lapapaessaludable</th>\n",
              "      <th>Lapapadaenergia</th>\n",
              "      <th>Lapapaengorda</th>\n",
              "      <th>Lapapaeseconomica</th>\n",
              "      <th>Vapor</th>\n",
              "      <th>Sopa</th>\n",
              "      <th>Pure</th>\n",
              "      <th>Fritas</th>\n",
              "      <th>Sudada</th>\n",
              "      <th>Salada</th>\n",
              "      <th>OtrasFormas</th>\n",
              "      <th>SOPAS</th>\n",
              "      <th>GRANOS</th>\n",
              "      <th>CARNE</th>\n",
              "      <th>HUEVOS</th>\n",
              "      <th>ARROZ</th>\n",
              "      <th>ENSALADA</th>\n",
              "      <th>NADAONINGUNO</th>\n",
              "      <th>OTROS</th>\n",
              "    </tr>\n",
              "  </thead>\n",
              "  <tbody>\n",
              "    <tr>\n",
              "      <th>count</th>\n",
              "      <td>20869</td>\n",
              "      <td>20869</td>\n",
              "      <td>20869</td>\n",
              "      <td>20869</td>\n",
              "      <td>20869</td>\n",
              "      <td>20869</td>\n",
              "      <td>20869</td>\n",
              "      <td>20869</td>\n",
              "      <td>20869</td>\n",
              "      <td>20869</td>\n",
              "      <td>20869</td>\n",
              "      <td>20869</td>\n",
              "      <td>20869</td>\n",
              "      <td>20869</td>\n",
              "      <td>20869</td>\n",
              "      <td>20869</td>\n",
              "      <td>20869</td>\n",
              "      <td>20869</td>\n",
              "      <td>20869</td>\n",
              "      <td>20869</td>\n",
              "      <td>20869</td>\n",
              "      <td>20869</td>\n",
              "      <td>20869</td>\n",
              "    </tr>\n",
              "    <tr>\n",
              "      <th>unique</th>\n",
              "      <td>2</td>\n",
              "      <td>2</td>\n",
              "      <td>2</td>\n",
              "      <td>2</td>\n",
              "      <td>2</td>\n",
              "      <td>2</td>\n",
              "      <td>2</td>\n",
              "      <td>2</td>\n",
              "      <td>2</td>\n",
              "      <td>2</td>\n",
              "      <td>2</td>\n",
              "      <td>2</td>\n",
              "      <td>2</td>\n",
              "      <td>2</td>\n",
              "      <td>2</td>\n",
              "      <td>2</td>\n",
              "      <td>2</td>\n",
              "      <td>2</td>\n",
              "      <td>2</td>\n",
              "      <td>2</td>\n",
              "      <td>2</td>\n",
              "      <td>2</td>\n",
              "      <td>2</td>\n",
              "    </tr>\n",
              "    <tr>\n",
              "      <th>top</th>\n",
              "      <td>False</td>\n",
              "      <td>False</td>\n",
              "      <td>False</td>\n",
              "      <td>False</td>\n",
              "      <td>False</td>\n",
              "      <td>False</td>\n",
              "      <td>False</td>\n",
              "      <td>True</td>\n",
              "      <td>False</td>\n",
              "      <td>False</td>\n",
              "      <td>False</td>\n",
              "      <td>False</td>\n",
              "      <td>False</td>\n",
              "      <td>False</td>\n",
              "      <td>False</td>\n",
              "      <td>False</td>\n",
              "      <td>False</td>\n",
              "      <td>True</td>\n",
              "      <td>False</td>\n",
              "      <td>True</td>\n",
              "      <td>False</td>\n",
              "      <td>False</td>\n",
              "      <td>False</td>\n",
              "    </tr>\n",
              "    <tr>\n",
              "      <th>freq</th>\n",
              "      <td>12786</td>\n",
              "      <td>20526</td>\n",
              "      <td>20794</td>\n",
              "      <td>20373</td>\n",
              "      <td>15041</td>\n",
              "      <td>18285</td>\n",
              "      <td>11925</td>\n",
              "      <td>15272</td>\n",
              "      <td>18888</td>\n",
              "      <td>12468</td>\n",
              "      <td>19454</td>\n",
              "      <td>16903</td>\n",
              "      <td>17482</td>\n",
              "      <td>19517</td>\n",
              "      <td>19753</td>\n",
              "      <td>19122</td>\n",
              "      <td>18926</td>\n",
              "      <td>11587</td>\n",
              "      <td>18925</td>\n",
              "      <td>12722</td>\n",
              "      <td>15752</td>\n",
              "      <td>20458</td>\n",
              "      <td>16243</td>\n",
              "    </tr>\n",
              "  </tbody>\n",
              "</table>\n",
              "</div>"
            ],
            "text/plain": [
              "           TV  RADIO PRENSA INTERNET  ...  ARROZ ENSALADA NADAONINGUNO  OTROS\n",
              "count   20869  20869  20869    20869  ...  20869    20869        20869  20869\n",
              "unique      2      2      2        2  ...      2        2            2      2\n",
              "top     False  False  False    False  ...   True    False        False  False\n",
              "freq    12786  20526  20794    20373  ...  12722    15752        20458  16243\n",
              "\n",
              "[4 rows x 23 columns]"
            ]
          },
          "metadata": {
            "tags": []
          },
          "execution_count": 8
        }
      ]
    },
    {
      "cell_type": "code",
      "metadata": {
        "id": "ydcyMKBRw3dk",
        "colab_type": "code",
        "colab": {}
      },
      "source": [
        "# seta tamanho default dos graficos para visualizacao\n",
        "sns.set(rc={'figure.figsize':(26,21)})"
      ],
      "execution_count": 0,
      "outputs": []
    },
    {
      "cell_type": "code",
      "metadata": {
        "id": "_gH75tWWxbzG",
        "colab_type": "code",
        "outputId": "ec7e6b8a-23b5-4f1d-c7e5-c3de0670f67b",
        "colab": {
          "base_uri": "https://localhost:8080/",
          "height": 1000
        }
      },
      "source": [
        "# analisa visualmente proporcionalidade de binaria para cara variavel / caracteristica\n",
        "fig, ax = plt.subplots(nrows=5, ncols=5)\n",
        "for i, col in enumerate(papa.columns):\n",
        "    c = i % 5\n",
        "    r = i // 5\n",
        "    sns.countplot(col, data=papa, ax=ax[r, c])\n",
        "plt.show()"
      ],
      "execution_count": 10,
      "outputs": [
        {
          "output_type": "display_data",
          "data": {
            "image/png": "[encoded data removed]",
            "text/plain": [
              "<Figure size 1872x1512 with 25 Axes>"
            ]
          },
          "metadata": {
            "tags": []
          }
        }
      ]
    },
    {
      "cell_type": "code",
      "metadata": {
        "id": "b8uTNXJTzlA5",
        "colab_type": "code",
        "colab": {}
      },
      "source": [
        "# nao e preciso usar o transactionEncoder pois os dados ja estao no formato one-hot encoding"
      ],
      "execution_count": 0,
      "outputs": []
    },
    {
      "cell_type": "code",
      "metadata": {
        "id": "mxgRG6nf0JOA",
        "colab_type": "code",
        "outputId": "f0a2a1a7-f025-44b0-db26-a608a04803c7",
        "colab": {
          "base_uri": "https://localhost:8080/",
          "height": 424
        }
      },
      "source": [
        "# aplicamos o apriori\n",
        "itens_freq = apriori(papa,\n",
        "                     min_support=0.05,\n",
        "                     use_colnames=True)\n",
        "\n",
        "itens_freq.sort_values(by='support', ascending=False)"
      ],
      "execution_count": 12,
      "outputs": [
        {
          "output_type": "execute_result",
          "data": {
            "text/html": [
              "<div>\n",
              "<style scoped>\n",
              "    .dataframe tbody tr th:only-of-type {\n",
              "        vertical-align: middle;\n",
              "    }\n",
              "\n",
              "    .dataframe tbody tr th {\n",
              "        vertical-align: top;\n",
              "    }\n",
              "\n",
              "    .dataframe thead th {\n",
              "        text-align: right;\n",
              "    }\n",
              "</style>\n",
              "<table border=\"1\" class=\"dataframe\">\n",
              "  <thead>\n",
              "    <tr style=\"text-align: right;\">\n",
              "      <th></th>\n",
              "      <th>support</th>\n",
              "      <th>itemsets</th>\n",
              "    </tr>\n",
              "  </thead>\n",
              "  <tbody>\n",
              "    <tr>\n",
              "      <th>4</th>\n",
              "      <td>0.731803</td>\n",
              "      <td>(Lapapaeseconomica)</td>\n",
              "    </tr>\n",
              "    <tr>\n",
              "      <th>16</th>\n",
              "      <td>0.609612</td>\n",
              "      <td>(ARROZ)</td>\n",
              "    </tr>\n",
              "    <tr>\n",
              "      <th>14</th>\n",
              "      <td>0.555225</td>\n",
              "      <td>(CARNE)</td>\n",
              "    </tr>\n",
              "    <tr>\n",
              "      <th>58</th>\n",
              "      <td>0.440174</td>\n",
              "      <td>(ARROZ, Lapapaeseconomica)</td>\n",
              "    </tr>\n",
              "    <tr>\n",
              "      <th>3</th>\n",
              "      <td>0.428578</td>\n",
              "      <td>(Lapapaengorda)</td>\n",
              "    </tr>\n",
              "    <tr>\n",
              "      <th>...</th>\n",
              "      <td>...</td>\n",
              "      <td>...</td>\n",
              "    </tr>\n",
              "    <tr>\n",
              "      <th>165</th>\n",
              "      <td>0.050889</td>\n",
              "      <td>(TV, Lapapadaenergia, ARROZ, CARNE)</td>\n",
              "    </tr>\n",
              "    <tr>\n",
              "      <th>94</th>\n",
              "      <td>0.050601</td>\n",
              "      <td>(Fritas, TV, Lapapaeseconomica)</td>\n",
              "    </tr>\n",
              "    <tr>\n",
              "      <th>82</th>\n",
              "      <td>0.050553</td>\n",
              "      <td>(Fritas, Lapapaessaludable, TV)</td>\n",
              "    </tr>\n",
              "    <tr>\n",
              "      <th>114</th>\n",
              "      <td>0.050266</td>\n",
              "      <td>(Lapapaessaludable, CARNE, ENSALADA)</td>\n",
              "    </tr>\n",
              "    <tr>\n",
              "      <th>69</th>\n",
              "      <td>0.050122</td>\n",
              "      <td>(Fritas, OTROS)</td>\n",
              "    </tr>\n",
              "  </tbody>\n",
              "</table>\n",
              "<p>194 rows × 2 columns</p>\n",
              "</div>"
            ],
            "text/plain": [
              "      support                              itemsets\n",
              "4    0.731803                   (Lapapaeseconomica)\n",
              "16   0.609612                               (ARROZ)\n",
              "14   0.555225                               (CARNE)\n",
              "58   0.440174            (ARROZ, Lapapaeseconomica)\n",
              "3    0.428578                       (Lapapaengorda)\n",
              "..        ...                                   ...\n",
              "165  0.050889   (TV, Lapapadaenergia, ARROZ, CARNE)\n",
              "94   0.050601       (Fritas, TV, Lapapaeseconomica)\n",
              "82   0.050553       (Fritas, Lapapaessaludable, TV)\n",
              "114  0.050266  (Lapapaessaludable, CARNE, ENSALADA)\n",
              "69   0.050122                       (Fritas, OTROS)\n",
              "\n",
              "[194 rows x 2 columns]"
            ]
          },
          "metadata": {
            "tags": []
          },
          "execution_count": 12
        }
      ]
    },
    {
      "cell_type": "code",
      "metadata": {
        "id": "Cs1ViPjp0L1i",
        "colab_type": "code",
        "colab": {}
      },
      "source": [
        "regras_assoc = association_rules(itens_freq, \n",
        "                                 metric='confidence',\n",
        "                                 min_threshold=0.1)"
      ],
      "execution_count": 0,
      "outputs": []
    },
    {
      "cell_type": "code",
      "metadata": {
        "id": "sv5oCilR0MP8",
        "colab_type": "code",
        "outputId": "ade5c546-01c1-4b1c-8c97-4d55f4dec203",
        "colab": {
          "base_uri": "https://localhost:8080/",
          "height": 363
        }
      },
      "source": [
        "cols = ['antecedents', 'consequents', 'support', 'confidence']\n",
        "assoc = regras_assoc[cols].sort_values(by='confidence', ascending=False)\n",
        "assoc.head(10)"
      ],
      "execution_count": 14,
      "outputs": [
        {
          "output_type": "execute_result",
          "data": {
            "text/html": [
              "<div>\n",
              "<style scoped>\n",
              "    .dataframe tbody tr th:only-of-type {\n",
              "        vertical-align: middle;\n",
              "    }\n",
              "\n",
              "    .dataframe tbody tr th {\n",
              "        vertical-align: top;\n",
              "    }\n",
              "\n",
              "    .dataframe thead th {\n",
              "        text-align: right;\n",
              "    }\n",
              "</style>\n",
              "<table border=\"1\" class=\"dataframe\">\n",
              "  <thead>\n",
              "    <tr style=\"text-align: right;\">\n",
              "      <th></th>\n",
              "      <th>antecedents</th>\n",
              "      <th>consequents</th>\n",
              "      <th>support</th>\n",
              "      <th>confidence</th>\n",
              "    </tr>\n",
              "  </thead>\n",
              "  <tbody>\n",
              "    <tr>\n",
              "      <th>704</th>\n",
              "      <td>(ARROZ, Lapapadaenergia, CARNE)</td>\n",
              "      <td>(TV)</td>\n",
              "      <td>0.050889</td>\n",
              "      <td>0.994382</td>\n",
              "    </tr>\n",
              "    <tr>\n",
              "      <th>692</th>\n",
              "      <td>(ARROZ, Lapapadaenergia, Lapapaeseconomica)</td>\n",
              "      <td>(TV)</td>\n",
              "      <td>0.054387</td>\n",
              "      <td>0.992133</td>\n",
              "    </tr>\n",
              "    <tr>\n",
              "      <th>169</th>\n",
              "      <td>(ARROZ, Lapapadaenergia)</td>\n",
              "      <td>(TV)</td>\n",
              "      <td>0.071014</td>\n",
              "      <td>0.991968</td>\n",
              "    </tr>\n",
              "    <tr>\n",
              "      <th>163</th>\n",
              "      <td>(Lapapadaenergia, CARNE)</td>\n",
              "      <td>(TV)</td>\n",
              "      <td>0.068331</td>\n",
              "      <td>0.987535</td>\n",
              "    </tr>\n",
              "    <tr>\n",
              "      <th>680</th>\n",
              "      <td>(Lapapadaenergia, CARNE, Lapapaeseconomica)</td>\n",
              "      <td>(TV)</td>\n",
              "      <td>0.052326</td>\n",
              "      <td>0.984671</td>\n",
              "    </tr>\n",
              "    <tr>\n",
              "      <th>3</th>\n",
              "      <td>(Lapapadaenergia)</td>\n",
              "      <td>(TV)</td>\n",
              "      <td>0.120130</td>\n",
              "      <td>0.970201</td>\n",
              "    </tr>\n",
              "    <tr>\n",
              "      <th>554</th>\n",
              "      <td>(Lapapaessaludable, CARNE, Lapapaengorda)</td>\n",
              "      <td>(TV)</td>\n",
              "      <td>0.060856</td>\n",
              "      <td>0.969466</td>\n",
              "    </tr>\n",
              "    <tr>\n",
              "      <th>114</th>\n",
              "      <td>(Lapapaessaludable, Lapapaengorda)</td>\n",
              "      <td>(TV)</td>\n",
              "      <td>0.103790</td>\n",
              "      <td>0.968261</td>\n",
              "    </tr>\n",
              "    <tr>\n",
              "      <th>568</th>\n",
              "      <td>(Lapapaessaludable, ARROZ, Lapapaengorda)</td>\n",
              "      <td>(TV)</td>\n",
              "      <td>0.061479</td>\n",
              "      <td>0.966114</td>\n",
              "    </tr>\n",
              "    <tr>\n",
              "      <th>157</th>\n",
              "      <td>(Lapapadaenergia, Lapapaeseconomica)</td>\n",
              "      <td>(TV)</td>\n",
              "      <td>0.092146</td>\n",
              "      <td>0.965846</td>\n",
              "    </tr>\n",
              "  </tbody>\n",
              "</table>\n",
              "</div>"
            ],
            "text/plain": [
              "                                     antecedents  ... confidence\n",
              "704              (ARROZ, Lapapadaenergia, CARNE)  ...   0.994382\n",
              "692  (ARROZ, Lapapadaenergia, Lapapaeseconomica)  ...   0.992133\n",
              "169                     (ARROZ, Lapapadaenergia)  ...   0.991968\n",
              "163                     (Lapapadaenergia, CARNE)  ...   0.987535\n",
              "680  (Lapapadaenergia, CARNE, Lapapaeseconomica)  ...   0.984671\n",
              "3                              (Lapapadaenergia)  ...   0.970201\n",
              "554    (Lapapaessaludable, CARNE, Lapapaengorda)  ...   0.969466\n",
              "114           (Lapapaessaludable, Lapapaengorda)  ...   0.968261\n",
              "568    (Lapapaessaludable, ARROZ, Lapapaengorda)  ...   0.966114\n",
              "157         (Lapapadaenergia, Lapapaeseconomica)  ...   0.965846\n",
              "\n",
              "[10 rows x 4 columns]"
            ]
          },
          "metadata": {
            "tags": []
          },
          "execution_count": 14
        }
      ]
    },
    {
      "cell_type": "code",
      "metadata": {
        "id": "4-Fi_AQ30MjM",
        "colab_type": "code",
        "outputId": "95d22fd4-b52e-4b91-fa4b-8453b46b2bdb",
        "colab": {
          "base_uri": "https://localhost:8080/",
          "height": 52
        }
      },
      "source": [
        "print('Total de associaçoes com confiança >= 10% = {}'.format(assoc.shape[0]))\n",
        "print('Total de associaçoes com confiança >= 50% = {}'.format(assoc[assoc.confidence >= 0.5].shape[0]))"
      ],
      "execution_count": 15,
      "outputs": [
        {
          "output_type": "stream",
          "text": [
            "Total de associaçoes com confiança >= 10% = 1124\n",
            "Total de associaçoes com confiança >= 50% = 323\n"
          ],
          "name": "stdout"
        }
      ]
    },
    {
      "cell_type": "code",
      "metadata": {
        "id": "T8PUUsDe0MpA",
        "colab_type": "code",
        "outputId": "6ba58406-87ce-474f-d2d2-a1a78954ea38",
        "colab": {
          "base_uri": "https://localhost:8080/",
          "height": 52
        }
      },
      "source": [
        "assoc_50 = assoc[assoc.confidence >= 0.5]\n",
        "print(\"\"\"Associaçõões com confiança maior que 50% que tem como consequente\n",
        " a ideia de que a batata engorda: {}\"\"\".format(assoc_50[assoc_50.consequents.apply(lambda x : 'Lapapaengorda' in x)].shape[0]))"
      ],
      "execution_count": 16,
      "outputs": [
        {
          "output_type": "stream",
          "text": [
            "Associaçõões com confiança maior que 50% que tem como consequente\n",
            " a ideia de que a batata engorda: 0\n"
          ],
          "name": "stdout"
        }
      ]
    },
    {
      "cell_type": "code",
      "metadata": {
        "id": "hScKjlLT0l0a",
        "colab_type": "code",
        "colab": {}
      },
      "source": [
        "lapapaengorda = assoc[assoc.consequents.apply(lambda x : 'Lapapaengorda' in x)]"
      ],
      "execution_count": 0,
      "outputs": []
    },
    {
      "cell_type": "code",
      "metadata": {
        "id": "Are0y3zs0h5h",
        "colab_type": "code",
        "outputId": "5f15d7a6-d196-45d3-c5f0-d4d27b3cdee1",
        "colab": {
          "base_uri": "https://localhost:8080/",
          "height": 208
        }
      },
      "source": [
        "print(\"Associações com a conclusao de que a batata engorda, com confiança >= 10% : {}\\n\".format(lapapaengorda.shape[0]))\n",
        "print(\"Estatisticas da confiança do consquente 'Lapapaengorda': {}\".format(lapapaengorda.describe()['confidence']))"
      ],
      "execution_count": 18,
      "outputs": [
        {
          "output_type": "stream",
          "text": [
            "Associações com a conclusao de que a batata engorda, com confiança >= 10% : 169\n",
            "\n",
            "Estatisticas da confiança do consquente 'Lapapaengorda': count    169.000000\n",
            "mean       0.278948\n",
            "std        0.112259\n",
            "min        0.100849\n",
            "25%        0.174384\n",
            "50%        0.278857\n",
            "75%        0.386143\n",
            "max        0.480342\n",
            "Name: confidence, dtype: float64\n"
          ],
          "name": "stdout"
        }
      ]
    },
    {
      "cell_type": "code",
      "metadata": {
        "id": "zKaLDgSA3QQV",
        "colab_type": "code",
        "outputId": "b7e00040-3f5d-49f1-ab92-bc32bd483ed4",
        "colab": {
          "base_uri": "https://localhost:8080/",
          "height": 520
        }
      },
      "source": [
        "lapapaengorda.head(15)"
      ],
      "execution_count": 19,
      "outputs": [
        {
          "output_type": "execute_result",
          "data": {
            "text/html": [
              "<div>\n",
              "<style scoped>\n",
              "    .dataframe tbody tr th:only-of-type {\n",
              "        vertical-align: middle;\n",
              "    }\n",
              "\n",
              "    .dataframe tbody tr th {\n",
              "        vertical-align: top;\n",
              "    }\n",
              "\n",
              "    .dataframe thead th {\n",
              "        text-align: right;\n",
              "    }\n",
              "</style>\n",
              "<table border=\"1\" class=\"dataframe\">\n",
              "  <thead>\n",
              "    <tr style=\"text-align: right;\">\n",
              "      <th></th>\n",
              "      <th>antecedents</th>\n",
              "      <th>consequents</th>\n",
              "      <th>support</th>\n",
              "      <th>confidence</th>\n",
              "    </tr>\n",
              "  </thead>\n",
              "  <tbody>\n",
              "    <tr>\n",
              "      <th>387</th>\n",
              "      <td>(Sopa, ENSALADA)</td>\n",
              "      <td>(Lapapaengorda)</td>\n",
              "      <td>0.053860</td>\n",
              "      <td>0.480342</td>\n",
              "    </tr>\n",
              "    <tr>\n",
              "      <th>935</th>\n",
              "      <td>(ARROZ, CARNE, ENSALADA)</td>\n",
              "      <td>(Lapapaengorda)</td>\n",
              "      <td>0.073123</td>\n",
              "      <td>0.479271</td>\n",
              "    </tr>\n",
              "    <tr>\n",
              "      <th>409</th>\n",
              "      <td>(CARNE, ENSALADA)</td>\n",
              "      <td>(Lapapaengorda)</td>\n",
              "      <td>0.082036</td>\n",
              "      <td>0.476085</td>\n",
              "    </tr>\n",
              "    <tr>\n",
              "      <th>415</th>\n",
              "      <td>(ARROZ, ENSALADA)</td>\n",
              "      <td>(Lapapaengorda)</td>\n",
              "      <td>0.093775</td>\n",
              "      <td>0.457350</td>\n",
              "    </tr>\n",
              "    <tr>\n",
              "      <th>921</th>\n",
              "      <td>(ARROZ, Sopa, CARNE)</td>\n",
              "      <td>(Lapapaengorda)</td>\n",
              "      <td>0.081844</td>\n",
              "      <td>0.454860</td>\n",
              "    </tr>\n",
              "    <tr>\n",
              "      <th>896</th>\n",
              "      <td>(ENSALADA, CARNE, Lapapaeseconomica)</td>\n",
              "      <td>(Lapapaengorda)</td>\n",
              "      <td>0.055106</td>\n",
              "      <td>0.451866</td>\n",
              "    </tr>\n",
              "    <tr>\n",
              "      <th>56</th>\n",
              "      <td>(ENSALADA)</td>\n",
              "      <td>(Lapapaengorda)</td>\n",
              "      <td>0.110690</td>\n",
              "      <td>0.451436</td>\n",
              "    </tr>\n",
              "    <tr>\n",
              "      <th>1070</th>\n",
              "      <td>(ARROZ, Sopa, CARNE, Lapapaeseconomica)</td>\n",
              "      <td>(Lapapaengorda)</td>\n",
              "      <td>0.056879</td>\n",
              "      <td>0.445738</td>\n",
              "    </tr>\n",
              "    <tr>\n",
              "      <th>46</th>\n",
              "      <td>(Sopa)</td>\n",
              "      <td>(Lapapaengorda)</td>\n",
              "      <td>0.179309</td>\n",
              "      <td>0.445423</td>\n",
              "    </tr>\n",
              "    <tr>\n",
              "      <th>375</th>\n",
              "      <td>(Sopa, CARNE)</td>\n",
              "      <td>(Lapapaengorda)</td>\n",
              "      <td>0.100819</td>\n",
              "      <td>0.442668</td>\n",
              "    </tr>\n",
              "    <tr>\n",
              "      <th>403</th>\n",
              "      <td>(ARROZ, CARNE)</td>\n",
              "      <td>(Lapapaengorda)</td>\n",
              "      <td>0.176674</td>\n",
              "      <td>0.442458</td>\n",
              "    </tr>\n",
              "    <tr>\n",
              "      <th>398</th>\n",
              "      <td>(Sudada, ARROZ)</td>\n",
              "      <td>(Lapapaengorda)</td>\n",
              "      <td>0.051272</td>\n",
              "      <td>0.439786</td>\n",
              "    </tr>\n",
              "    <tr>\n",
              "      <th>54</th>\n",
              "      <td>(ARROZ)</td>\n",
              "      <td>(Lapapaengorda)</td>\n",
              "      <td>0.266711</td>\n",
              "      <td>0.437510</td>\n",
              "    </tr>\n",
              "    <tr>\n",
              "      <th>381</th>\n",
              "      <td>(ARROZ, Sopa)</td>\n",
              "      <td>(Lapapaengorda)</td>\n",
              "      <td>0.117447</td>\n",
              "      <td>0.436432</td>\n",
              "    </tr>\n",
              "    <tr>\n",
              "      <th>341</th>\n",
              "      <td>(Sopa, Lapapaeseconomica)</td>\n",
              "      <td>(Lapapaengorda)</td>\n",
              "      <td>0.125114</td>\n",
              "      <td>0.435167</td>\n",
              "    </tr>\n",
              "  </tbody>\n",
              "</table>\n",
              "</div>"
            ],
            "text/plain": [
              "                                  antecedents  ... confidence\n",
              "387                          (Sopa, ENSALADA)  ...   0.480342\n",
              "935                  (ARROZ, CARNE, ENSALADA)  ...   0.479271\n",
              "409                         (CARNE, ENSALADA)  ...   0.476085\n",
              "415                         (ARROZ, ENSALADA)  ...   0.457350\n",
              "921                      (ARROZ, Sopa, CARNE)  ...   0.454860\n",
              "896      (ENSALADA, CARNE, Lapapaeseconomica)  ...   0.451866\n",
              "56                                 (ENSALADA)  ...   0.451436\n",
              "1070  (ARROZ, Sopa, CARNE, Lapapaeseconomica)  ...   0.445738\n",
              "46                                     (Sopa)  ...   0.445423\n",
              "375                             (Sopa, CARNE)  ...   0.442668\n",
              "403                            (ARROZ, CARNE)  ...   0.442458\n",
              "398                           (Sudada, ARROZ)  ...   0.439786\n",
              "54                                    (ARROZ)  ...   0.437510\n",
              "381                             (ARROZ, Sopa)  ...   0.436432\n",
              "341                 (Sopa, Lapapaeseconomica)  ...   0.435167\n",
              "\n",
              "[15 rows x 4 columns]"
            ]
          },
          "metadata": {
            "tags": []
          },
          "execution_count": 19
        }
      ]
    },
    {
      "cell_type": "markdown",
      "metadata": {
        "id": "TJZ-rnOw4XOD",
        "colab_type": "text"
      },
      "source": [
        "### **Conclusão**\n",
        "Curiosamente, os itens mais comumente associados à percepção de que a batata engorda são outros itens alimentícios, como arroz, sopa ou até mesmo salada.\n",
        "\n",
        "Levando também em consideração o suporte dessa percepção, podemos notar que arroz (sup. 26%), sopa (sup 17.9%) e carne + arroz (17.6%) são os items mais frequentemente associados com essa percepção.\n",
        "\n",
        "O fato da confiança ser inferior a 50% mas maior que 40% para os casos acima deve ser considerado e levado em conta caso a presente análise venha a ser utilizada numa tomada de decisão. \n",
        "\n",
        "Valeria a pena testar numa rede varejista afastar as batatas e produtos derivados de batata do arroz, da sopa e das saladas."
      ]
    },
    {
      "cell_type": "code",
      "metadata": {
        "id": "Lpg2X65W3UUj",
        "colab_type": "code",
        "colab": {}
      },
      "source": [
        ""
      ],
      "execution_count": 0,
      "outputs": []
    }
  ]
}