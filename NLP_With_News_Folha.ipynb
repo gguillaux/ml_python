{
  "nbformat": 4,
  "nbformat_minor": 0,
  "metadata": {
    "colab": {
      "name": "NLP With News - Folha.ipynb",
      "provenance": [],
      "collapsed_sections": [],
      "authorship_tag": "ABX9TyM5X/SMyjI2X5iCB+SieJXl",
      "include_colab_link": true
    },
    "kernelspec": {
      "name": "python3",
      "display_name": "Python 3"
    }
  },
  "cells": [
    {
      "cell_type": "markdown",
      "metadata": {
        "id": "view-in-github",
        "colab_type": "text"
      },
      "source": [
        "<a href=\"https://colab.research.google.com/github/gguillaux/ml_python/blob/master/NLP_With_News_Folha.ipynb\" target=\"_parent\"><img src=\"https://colab.research.google.com/assets/colab-badge.svg\" alt=\"Open In Colab\"/></a>"
      ]
    },
    {
      "cell_type": "markdown",
      "metadata": {
        "id": "bgz9HbJIj1EU",
        "colab_type": "text"
      },
      "source": [
        "# Prediction of new categories\n",
        "## 1. Import libraries"
      ]
    },
    {
      "cell_type": "code",
      "metadata": {
        "id": "ncoLxKlO1AyN",
        "colab_type": "code",
        "colab": {}
      },
      "source": [
        "import nltk\n",
        "import requests\n",
        "import pandas as pd\n",
        "import requests_html\n",
        "from bs4 import BeautifulSoup as bs\n",
        "from nltk.tokenize import word_tokenize\n",
        "from sklearn.tree import DecisionTreeClassifier\n",
        "from sklearn.model_selection import train_test_split\n",
        "from sklearn.feature_extraction.text import TfidfVectorizer\n",
        "from sklearn.feature_extraction.text import CountVectorizer"
      ],
      "execution_count": 0,
      "outputs": []
    },
    {
      "cell_type": "markdown",
      "metadata": {
        "id": "_BEP01ojkDQQ",
        "colab_type": "text"
      },
      "source": [
        "## 2. Define main url, target url and auxiliar functions"
      ]
    },
    {
      "cell_type": "code",
      "metadata": {
        "id": "rbtL7knVFS1B",
        "colab_type": "code",
        "colab": {}
      },
      "source": [
        "def join_text_columns(df):\n",
        "    '''joins title and subtitle columns'''\n",
        "    df['text'] = df['title'].str.lower() + ' ' + df['subtitle'].str.lower()\n",
        "    return df"
      ],
      "execution_count": 0,
      "outputs": []
    },
    {
      "cell_type": "code",
      "metadata": {
        "id": "fz9PcraR1rxO",
        "colab_type": "code",
        "colab": {}
      },
      "source": [
        "class Folha:\n",
        "    def __init__(self):\n",
        "        self.url = r'https://www.folha.uol.com.br/'\n",
        "        self.last_news = {'ultimas_noticias' : r'https://www1.folha.uol.com.br/ultimas-noticias/#500'}\n",
        "        self.categories = self.get_news_categories(self.url)\n",
        "        self.news_df = self.get_news_dataframe(self.categories)\n",
        "        self.last_news_df = self.get_news_dataframe(self.last_news)\n",
        "        \n",
        "\n",
        "    def get_news_categories(self, url):\n",
        "        '''get editorials categories from main webpage'''\n",
        "        s = requests_html.HTMLSession()\n",
        "        r = s.get(url)\n",
        "        #r.html.encoding = 'ISO-8859-1'\n",
        "\n",
        "        soup = bs(r.content.decode('utf-8'), 'html5')\n",
        "        tags = soup.select('nav ul li.c-site-nav__item a')[1:-3]\n",
        "        sections = {k.text : '{}#500'.format(k.attrs.get('href')) \n",
        "                    if (k.attrs.get('href')[-1] == r'/') \n",
        "                    else r'{}/#500'.format(k.attrs.get('href')) for k in tags}\n",
        "        return sections\n",
        "\n",
        "\n",
        "    def get_headlines_and_subtitles(self, url, category):\n",
        "        '''get titles and subtitles of all news in the given category'''\n",
        "        s = requests_html.HTMLSession()\n",
        "        r = s.get(url)\n",
        "        r.html.encoding = r.encoding\n",
        "\n",
        "        soup = bs(r.content.decode('iso-8859-1'), 'html5')\n",
        "        tags = soup.select('div.c-headline__content')\n",
        "        headlines = []\n",
        "        for k in tags:\n",
        "            try:\n",
        "                if len(k.select('p')) > 0:\n",
        "                    h = {'category': category,\n",
        "                        'title': k.select('h2')[0].text.strip(),\n",
        "                        'subtitle': k.select('p')[0].text.strip()}\n",
        "                    headlines.append(h)\n",
        "            except Exception as e:\n",
        "                print(\"Error on {}.\\nMessage = {}\".format('k', e))\n",
        "        return headlines\n",
        "\n",
        "\n",
        "    def get_news_dataframe(self, categories):\n",
        "        headlines = [get_headlines_and_subtitles(categories[cat], cat) for cat in categories.keys()]\n",
        "        frames = [pd.DataFrame(k) for k in headlines]\n",
        "        df = pd.concat(frames, axis=0)\n",
        "        return join_text_columns(df)"
      ],
      "execution_count": 0,
      "outputs": []
    },
    {
      "cell_type": "markdown",
      "metadata": {
        "id": "1ZOD0Id9kIgK",
        "colab_type": "text"
      },
      "source": [
        "## 3. Get main categories and structure news as dataframes"
      ]
    },
    {
      "cell_type": "code",
      "metadata": {
        "id": "VaT3OoYr17LR",
        "colab_type": "code",
        "outputId": "ffc5eacf-1b71-440f-834c-5704c548695c",
        "colab": {
          "base_uri": "https://localhost:8080/",
          "height": 191
        }
      },
      "source": [
        "folha = Folha()\n",
        "folha.categories"
      ],
      "execution_count": 0,
      "outputs": [
        {
          "output_type": "execute_result",
          "data": {
            "text/plain": [
              "{'F5': 'https://f5.folha.uol.com.br/#500',\n",
              " 'coronavírus': 'https://www1.folha.uol.com.br/cotidiano/coronavirus/#500',\n",
              " 'cotidiano': 'https://www1.folha.uol.com.br/cotidiano/#500',\n",
              " 'cultura': 'https://www1.folha.uol.com.br/ilustrada/#500',\n",
              " 'economia': 'https://www1.folha.uol.com.br/mercado/#500',\n",
              " 'esporte': 'https://www1.folha.uol.com.br/esporte/#500',\n",
              " 'mundo': 'https://www1.folha.uol.com.br/mundo/#500',\n",
              " 'opinião': 'https://www1.folha.uol.com.br/opiniao/#500',\n",
              " 'podcasts': 'https://www1.folha.uol.com.br/podcasts/#500',\n",
              " 'poder': 'https://www1.folha.uol.com.br/poder/#500'}"
            ]
          },
          "metadata": {
            "tags": []
          },
          "execution_count": 96
        }
      ]
    },
    {
      "cell_type": "code",
      "metadata": {
        "id": "r8au5vq84zn5",
        "colab_type": "code",
        "outputId": "89855c8b-a64c-4a7c-d90b-5c3fc745318a",
        "colab": {
          "base_uri": "https://localhost:8080/",
          "height": 278
        }
      },
      "source": [
        "sample = get_headlines_and_subtitles(categories['poder'], 'poder')\n",
        "sample[:5]"
      ],
      "execution_count": 0,
      "outputs": [
        {
          "output_type": "execute_result",
          "data": {
            "text/plain": [
              "[{'category': 'poder',\n",
              "  'subtitle': 'Ela substituiu o marido, em 2019, na mesma função que ele tinha na legenda até assumir o governo do RJ',\n",
              "  'title': 'Mulher de Witzel recebeu mais de R$ 350 mil de dinheiro pÃºblico do PSC para atuar como advogada'},\n",
              " {'category': 'poder',\n",
              "  'subtitle': 'Veículos de comunicação com Folha, o UOL e o Grupo Globo suspenderam temporariamente a cobertura no local',\n",
              "  'title': 'Ataques a jornalistas no Alvorada sÃ£o claro ataque Ã\\xa0 liberdade de imprensa, diz Maia'},\n",
              " {'category': 'poder',\n",
              "  'subtitle': 'Procurador-geral da RepÃºblica cuida atualmente de investigaÃ§Ãµes que atingem presidente',\n",
              "  'title': 'Aras Ã© nome forte para eventual terceira vaga no Supremo, diz Bolsonaro'},\n",
              " {'category': 'poder',\n",
              "  'subtitle': 'A avaliaÃ§Ã£o de sindicalistas Ã© que Doria se mostrou aberto ao diÃ¡logo com as centrais',\n",
              "  'title': 'SÃ£o Paulo vai defender a democracia atÃ© com medidas judiciais, diz Doria em reuniÃ£o com centrais'},\n",
              " {'category': 'poder',\n",
              "  'subtitle': 'Senadores criticaram tentativa de Davi Alcolumbre de buscar uma pacificaÃ§Ã£o entre Bolsonaro e o STF',\n",
              "  'title': 'Congresso precisa agir antes que haja um golpe, dizem lÃ\\xadderes de partidos no Senado'}]"
            ]
          },
          "metadata": {
            "tags": []
          },
          "execution_count": 90
        }
      ]
    },
    {
      "cell_type": "markdown",
      "metadata": {
        "id": "fXyZr-R9mcQF",
        "colab_type": "text"
      },
      "source": [
        "## 4. Get headlines"
      ]
    },
    {
      "cell_type": "code",
      "metadata": {
        "id": "X3hfOxRcGvdU",
        "colab_type": "code",
        "outputId": "6b6b195a-052b-4a17-fa54-39b5cb0c97c7",
        "colab": {
          "base_uri": "https://localhost:8080/",
          "height": 206
        }
      },
      "source": [
        "folha.news_df.head()"
      ],
      "execution_count": 0,
      "outputs": [
        {
          "output_type": "execute_result",
          "data": {
            "text/html": [
              "<div>\n",
              "<style scoped>\n",
              "    .dataframe tbody tr th:only-of-type {\n",
              "        vertical-align: middle;\n",
              "    }\n",
              "\n",
              "    .dataframe tbody tr th {\n",
              "        vertical-align: top;\n",
              "    }\n",
              "\n",
              "    .dataframe thead th {\n",
              "        text-align: right;\n",
              "    }\n",
              "</style>\n",
              "<table border=\"1\" class=\"dataframe\">\n",
              "  <thead>\n",
              "    <tr style=\"text-align: right;\">\n",
              "      <th></th>\n",
              "      <th>category</th>\n",
              "      <th>title</th>\n",
              "      <th>subtitle</th>\n",
              "      <th>text</th>\n",
              "    </tr>\n",
              "  </thead>\n",
              "  <tbody>\n",
              "    <tr>\n",
              "      <th>0</th>\n",
              "      <td>opinião</td>\n",
              "      <td>Sujos e mal lavados</td>\n",
              "      <td>PF protagoniza operações polêmicas na forma, m...</td>\n",
              "      <td>sujos e mal lavados pf protagoniza operações p...</td>\n",
              "    </tr>\n",
              "    <tr>\n",
              "      <th>1</th>\n",
              "      <td>opinião</td>\n",
              "      <td>Abre ou fecha</td>\n",
              "      <td>Datafolha capta apoio a medidas duras mas tamb...</td>\n",
              "      <td>abre ou fecha datafolha capta apoio a medidas ...</td>\n",
              "    </tr>\n",
              "    <tr>\n",
              "      <th>2</th>\n",
              "      <td>opinião</td>\n",
              "      <td>O que a Folha pensa</td>\n",
              "      <td>Jornal expressa diariamente seus pontos de vis...</td>\n",
              "      <td>o que a folha pensa jornal expressa diariament...</td>\n",
              "    </tr>\n",
              "    <tr>\n",
              "      <th>3</th>\n",
              "      <td>opinião</td>\n",
              "      <td>A hora do vice-presidente</td>\n",
              "      <td>A gravidade da situação atual não admite outra...</td>\n",
              "      <td>a hora do vice-presidente a gravidade da situa...</td>\n",
              "    </tr>\n",
              "    <tr>\n",
              "      <th>4</th>\n",
              "      <td>opinião</td>\n",
              "      <td>MÃ£os dadas pela democracia</td>\n",
              "      <td>Cartilha sobre medidas legais orienta jornalis...</td>\n",
              "      <td>mã£os dadas pela democracia cartilha sobre med...</td>\n",
              "    </tr>\n",
              "  </tbody>\n",
              "</table>\n",
              "</div>"
            ],
            "text/plain": [
              "  category  ...                                               text\n",
              "0  opinião  ...  sujos e mal lavados pf protagoniza operações p...\n",
              "1  opinião  ...  abre ou fecha datafolha capta apoio a medidas ...\n",
              "2  opinião  ...  o que a folha pensa jornal expressa diariament...\n",
              "3  opinião  ...  a hora do vice-presidente a gravidade da situa...\n",
              "4  opinião  ...  mã£os dadas pela democracia cartilha sobre med...\n",
              "\n",
              "[5 rows x 4 columns]"
            ]
          },
          "metadata": {
            "tags": []
          },
          "execution_count": 94
        }
      ]
    },
    {
      "cell_type": "code",
      "metadata": {
        "id": "hwE8NrUIGvSi",
        "colab_type": "code",
        "outputId": "0f586497-3888-4bfc-cf80-b9e9aa7c3699",
        "colab": {
          "base_uri": "https://localhost:8080/",
          "height": 293
        }
      },
      "source": [
        "folha.last_news_df.head()"
      ],
      "execution_count": 0,
      "outputs": [
        {
          "output_type": "execute_result",
          "data": {
            "text/html": [
              "<div>\n",
              "<style scoped>\n",
              "    .dataframe tbody tr th:only-of-type {\n",
              "        vertical-align: middle;\n",
              "    }\n",
              "\n",
              "    .dataframe tbody tr th {\n",
              "        vertical-align: top;\n",
              "    }\n",
              "\n",
              "    .dataframe thead th {\n",
              "        text-align: right;\n",
              "    }\n",
              "</style>\n",
              "<table border=\"1\" class=\"dataframe\">\n",
              "  <thead>\n",
              "    <tr style=\"text-align: right;\">\n",
              "      <th></th>\n",
              "      <th>category</th>\n",
              "      <th>title</th>\n",
              "      <th>subtitle</th>\n",
              "      <th>text</th>\n",
              "    </tr>\n",
              "  </thead>\n",
              "  <tbody>\n",
              "    <tr>\n",
              "      <th>0</th>\n",
              "      <td>ultimas_noticias</td>\n",
              "      <td>EUA acusam Coreia do Norte de lavar dinheiro p...</td>\n",
              "      <td>Segundo promotores americanos, 28 norte-corean...</td>\n",
              "      <td>eua acusam coreia do norte de lavar dinheiro p...</td>\n",
              "    </tr>\n",
              "    <tr>\n",
              "      <th>1</th>\n",
              "      <td>ultimas_noticias</td>\n",
              "      <td>Bolsonaro envia carro de som com mensagem romÃ...</td>\n",
              "      <td>Em lua de mel comÂ Augusto Aras, o presidente ...</td>\n",
              "      <td>bolsonaro envia carro de som com mensagem romã...</td>\n",
              "    </tr>\n",
              "    <tr>\n",
              "      <th>2</th>\n",
              "      <td>ultimas_noticias</td>\n",
              "      <td>Senado aprova linha de crÃ©dito de atÃ© R$ 100...</td>\n",
              "      <td>Medida de ajuda para profissionais liberais du...</td>\n",
              "      <td>senado aprova linha de crã©dito de atã© r$ 100...</td>\n",
              "    </tr>\n",
              "    <tr>\n",
              "      <th>3</th>\n",
              "      <td>ultimas_noticias</td>\n",
              "      <td>Paolla Oliveira diz que nÃ£o tem pudor com nud...</td>\n",
              "      <td>Atriz afirma que pessoas tÃªm imagem errada dela</td>\n",
              "      <td>paolla oliveira diz que nã£o tem pudor com nud...</td>\n",
              "    </tr>\n",
              "    <tr>\n",
              "      <th>4</th>\n",
              "      <td>ultimas_noticias</td>\n",
              "      <td>Lady Gaga pulsa com euforia em disco que a lev...</td>\n",
              "      <td>Depois de cantar country, jazz e levar uma est...</td>\n",
              "      <td>lady gaga pulsa com euforia em disco que a lev...</td>\n",
              "    </tr>\n",
              "  </tbody>\n",
              "</table>\n",
              "</div>"
            ],
            "text/plain": [
              "           category  ...                                               text\n",
              "0  ultimas_noticias  ...  eua acusam coreia do norte de lavar dinheiro p...\n",
              "1  ultimas_noticias  ...  bolsonaro envia carro de som com mensagem romã...\n",
              "2  ultimas_noticias  ...  senado aprova linha de crã©dito de atã© r$ 100...\n",
              "3  ultimas_noticias  ...  paolla oliveira diz que nã£o tem pudor com nud...\n",
              "4  ultimas_noticias  ...  lady gaga pulsa com euforia em disco que a lev...\n",
              "\n",
              "[5 rows x 4 columns]"
            ]
          },
          "metadata": {
            "tags": []
          },
          "execution_count": 95
        }
      ]
    },
    {
      "cell_type": "markdown",
      "metadata": {
        "id": "BOwPANhlIzct",
        "colab_type": "text"
      },
      "source": [
        "## 4. Define vetorizerer functions"
      ]
    },
    {
      "cell_type": "code",
      "metadata": {
        "id": "UK24HJLWNag7",
        "colab_type": "code",
        "outputId": "18401d03-b1e7-472c-8a87-69bfd361a710",
        "colab": {
          "base_uri": "https://localhost:8080/",
          "height": 69
        }
      },
      "source": [
        "nltk.download('stopwords')"
      ],
      "execution_count": 0,
      "outputs": [
        {
          "output_type": "stream",
          "text": [
            "[nltk_data] Downloading package stopwords to /root/nltk_data...\n",
            "[nltk_data]   Unzipping corpora/stopwords.zip.\n"
          ],
          "name": "stdout"
        },
        {
          "output_type": "execute_result",
          "data": {
            "text/plain": [
              "True"
            ]
          },
          "metadata": {
            "tags": []
          },
          "execution_count": 112
        }
      ]
    },
    {
      "cell_type": "code",
      "metadata": {
        "id": "8EyhiMHlGvIu",
        "colab_type": "code",
        "colab": {}
      },
      "source": [
        "def get_tf_idf_vectorizer(df, ngram):\n",
        "    vect = TfidfVectorizer(smooth_idf=False, ngram_range=ngram)\n",
        "    vect.fit(df.text)\n",
        "    return vect.transform(df.text)\n",
        "\n",
        "def get_count_vectorizer(df, ngram):\n",
        "    vect = CountVectorizer(ngram_range=ngram)\n",
        "    vect.fit(df.text)\n",
        "    return vect.transform(df.text)\n",
        "\n",
        "def get_tf_idf_vectorizer_with_stopw(df, ngram):\n",
        "    stopwords = nltk.corpus.stopwords.words('portuguese')\n",
        "    vect = TfidfVectorizer(smooth_idf=False, ngram_range=ngram, stop_words=stopwords)\n",
        "    vect.fit(df.text)\n",
        "    return vect.transform(df.text)\n",
        "\n",
        "def get_count_vectorizer_with_stopw(df, ngram):\n",
        "    stopwords = nltk.corpus.stopwords.words('portuguese')\n",
        "    vect = CountVectorizer(ngram_range=ngram, stop_words=stopwords)\n",
        "    vect.fit(df.text)\n",
        "    return vect.transform(df.text)"
      ],
      "execution_count": 0,
      "outputs": []
    },
    {
      "cell_type": "code",
      "metadata": {
        "id": "obPgfF-4KHuY",
        "colab_type": "code",
        "colab": {}
      },
      "source": [
        "def train_decision_tree_classifier(x, y, test_size, rstate):\n",
        "    X_train, X_test, y_train, y_test = train_test_split(\n",
        "        x,\n",
        "        y,\n",
        "        test_size=test_size,\n",
        "        stratify=y,\n",
        "        random_state=42\n",
        "        )\n",
        "    tree_classifier = DecisionTreeClassifier()\n",
        "    tree_classifier.fit(X_train, y_train)\n",
        "    print('Train Score \\t= {}\\nTest Score \\t= {}'.format(tree_classifier.score(X_train, y_train), \n",
        "                                                         tree_classifier.score(X_test, y_test)))\n",
        "    return tree_classifier"
      ],
      "execution_count": 0,
      "outputs": []
    },
    {
      "cell_type": "code",
      "metadata": {
        "id": "d2zrxQtk0CEu",
        "colab_type": "code",
        "colab": {}
      },
      "source": [
        "ngrams = [(1,1), (1,2), (2,2), (1,3), (2,3), (3,3)]"
      ],
      "execution_count": 0,
      "outputs": []
    },
    {
      "cell_type": "code",
      "metadata": {
        "id": "cECJ6vKSK7AO",
        "colab_type": "code",
        "outputId": "e0c43cdb-e7e2-416a-b881-aafd80886338",
        "colab": {
          "base_uri": "https://localhost:8080/",
          "height": 920
        }
      },
      "source": [
        "# Count Vectorizer \n",
        "test_split = 0.3\n",
        "\n",
        "print('COUNT_VECTORIZER')\n",
        "print('without stop words')\n",
        "for ngram in ngrams:\n",
        "    vect = get_count_vectorizer(folha.news_df, ngram)\n",
        "    print('NGRAM = {}'.format(ngram))\n",
        "    _ = train_decision_tree_classifier(vect, folha.news_df.category, test_split, 42)\n",
        "    print()\n",
        "\n",
        "print('-' * 50)\n",
        "\n",
        "print('with stop words')\n",
        "for ngram in ngrams:\n",
        "    vect = get_count_vectorizer_with_stopw(folha.news_df, ngram)\n",
        "    print('NGRAM = {}'.format(ngram))\n",
        "    _ = train_decision_tree_classifier(vect, folha.news_df.category, test_split, 42)\n",
        "    print()"
      ],
      "execution_count": 0,
      "outputs": [
        {
          "output_type": "stream",
          "text": [
            "COUNT_VECTORIZER\n",
            "without stop words\n",
            "NGRAM = (1, 1)\n",
            "Train Score \t= 0.9075391180654339\n",
            "Test Score \t= 0.31788079470198677\n",
            "\n",
            "NGRAM = (1, 2)\n",
            "Train Score \t= 0.9075391180654339\n",
            "Test Score \t= 0.32450331125827814\n",
            "\n",
            "NGRAM = (2, 2)\n",
            "Train Score \t= 0.9075391180654339\n",
            "Test Score \t= 0.25496688741721857\n",
            "\n",
            "NGRAM = (1, 3)\n",
            "Train Score \t= 0.9075391180654339\n",
            "Test Score \t= 0.3211920529801324\n",
            "\n",
            "NGRAM = (2, 3)\n",
            "Train Score \t= 0.9075391180654339\n",
            "Test Score \t= 0.2582781456953642\n",
            "\n",
            "NGRAM = (3, 3)\n",
            "Train Score \t= 0.9075391180654339\n",
            "Test Score \t= 0.18211920529801323\n",
            "\n",
            "--------------------------------------------------\n",
            "with stop words\n",
            "NGRAM = (1, 1)\n",
            "Train Score \t= 0.9075391180654339\n",
            "Test Score \t= 0.3443708609271523\n",
            "\n",
            "NGRAM = (1, 2)\n",
            "Train Score \t= 0.9075391180654339\n",
            "Test Score \t= 0.3543046357615894\n",
            "\n",
            "NGRAM = (2, 2)\n",
            "Train Score \t= 0.9075391180654339\n",
            "Test Score \t= 0.24172185430463577\n",
            "\n",
            "NGRAM = (1, 3)\n",
            "Train Score \t= 0.9075391180654339\n",
            "Test Score \t= 0.3443708609271523\n",
            "\n",
            "NGRAM = (2, 3)\n",
            "Train Score \t= 0.9075391180654339\n",
            "Test Score \t= 0.2185430463576159\n",
            "\n",
            "NGRAM = (3, 3)\n",
            "Train Score \t= 0.9075391180654339\n",
            "Test Score \t= 0.1490066225165563\n",
            "\n"
          ],
          "name": "stdout"
        }
      ]
    },
    {
      "cell_type": "code",
      "metadata": {
        "id": "izjl-JAcL_8l",
        "colab_type": "code",
        "outputId": "28a12ba7-d23a-4c21-b033-b87cfb4daf9e",
        "colab": {
          "base_uri": "https://localhost:8080/",
          "height": 920
        }
      },
      "source": [
        "# Tf-idf Vectorizer \n",
        "test_split = 0.3\n",
        "\n",
        "print('TF-IDF VECTORIZER')\n",
        "print('without stop words')\n",
        "for ngram in ngrams:\n",
        "    vect = get_tf_idf_vectorizer(folha.news_df, ngram)\n",
        "    print('NGRAM = {}'.format(ngram))\n",
        "    _ = train_decision_tree_classifier(vect, folha.news_df.category, test_split, 42)\n",
        "    print()\n",
        "\n",
        "print('-' * 50)\n",
        "\n",
        "print('with stop words')\n",
        "for ngram in ngrams:\n",
        "    vect = get_tf_idf_vectorizer_with_stopw(folha.news_df, ngram)\n",
        "    print('NGRAM = {}'.format(ngram))\n",
        "    _ = train_decision_tree_classifier(vect, folha.news_df.category, test_split, 42)\n",
        "    print()"
      ],
      "execution_count": 0,
      "outputs": [
        {
          "output_type": "stream",
          "text": [
            "TF-IDF VECTORIZER\n",
            "without stop words\n",
            "NGRAM = (1, 1)\n",
            "Train Score \t= 0.9075391180654339\n",
            "Test Score \t= 0.3675496688741722\n",
            "\n",
            "NGRAM = (1, 2)\n",
            "Train Score \t= 0.9075391180654339\n",
            "Test Score \t= 0.3576158940397351\n",
            "\n",
            "NGRAM = (2, 2)\n",
            "Train Score \t= 0.9075391180654339\n",
            "Test Score \t= 0.25165562913907286\n",
            "\n",
            "NGRAM = (1, 3)\n",
            "Train Score \t= 0.9075391180654339\n",
            "Test Score \t= 0.3344370860927152\n",
            "\n",
            "NGRAM = (2, 3)\n",
            "Train Score \t= 0.9075391180654339\n",
            "Test Score \t= 0.24172185430463577\n",
            "\n",
            "NGRAM = (3, 3)\n",
            "Train Score \t= 0.9075391180654339\n",
            "Test Score \t= 0.18543046357615894\n",
            "\n",
            "--------------------------------------------------\n",
            "with stop words\n",
            "NGRAM = (1, 1)\n",
            "Train Score \t= 0.9075391180654339\n",
            "Test Score \t= 0.36423841059602646\n",
            "\n",
            "NGRAM = (1, 2)\n",
            "Train Score \t= 0.9075391180654339\n",
            "Test Score \t= 0.33774834437086093\n",
            "\n",
            "NGRAM = (2, 2)\n",
            "Train Score \t= 0.9075391180654339\n",
            "Test Score \t= 0.23178807947019867\n",
            "\n",
            "NGRAM = (1, 3)\n",
            "Train Score \t= 0.9075391180654339\n",
            "Test Score \t= 0.3576158940397351\n",
            "\n",
            "NGRAM = (2, 3)\n",
            "Train Score \t= 0.9075391180654339\n",
            "Test Score \t= 0.24834437086092714\n",
            "\n",
            "NGRAM = (3, 3)\n",
            "Train Score \t= 0.9075391180654339\n",
            "Test Score \t= 0.152317880794702\n",
            "\n"
          ],
          "name": "stdout"
        }
      ]
    },
    {
      "cell_type": "code",
      "metadata": {
        "id": "sK1Fm7EwMhBg",
        "colab_type": "code",
        "outputId": "b19e36e4-a6f4-48be-a714-bf3e36815261",
        "colab": {
          "base_uri": "https://localhost:8080/",
          "height": 293
        }
      },
      "source": [
        "folha.last_news_df.head()"
      ],
      "execution_count": 0,
      "outputs": [
        {
          "output_type": "execute_result",
          "data": {
            "text/html": [
              "<div>\n",
              "<style scoped>\n",
              "    .dataframe tbody tr th:only-of-type {\n",
              "        vertical-align: middle;\n",
              "    }\n",
              "\n",
              "    .dataframe tbody tr th {\n",
              "        vertical-align: top;\n",
              "    }\n",
              "\n",
              "    .dataframe thead th {\n",
              "        text-align: right;\n",
              "    }\n",
              "</style>\n",
              "<table border=\"1\" class=\"dataframe\">\n",
              "  <thead>\n",
              "    <tr style=\"text-align: right;\">\n",
              "      <th></th>\n",
              "      <th>category</th>\n",
              "      <th>title</th>\n",
              "      <th>subtitle</th>\n",
              "      <th>text</th>\n",
              "    </tr>\n",
              "  </thead>\n",
              "  <tbody>\n",
              "    <tr>\n",
              "      <th>0</th>\n",
              "      <td>ultimas_noticias</td>\n",
              "      <td>EUA acusam Coreia do Norte de lavar dinheiro p...</td>\n",
              "      <td>Segundo promotores americanos, 28 norte-corean...</td>\n",
              "      <td>eua acusam coreia do norte de lavar dinheiro p...</td>\n",
              "    </tr>\n",
              "    <tr>\n",
              "      <th>1</th>\n",
              "      <td>ultimas_noticias</td>\n",
              "      <td>Bolsonaro envia carro de som com mensagem romÃ...</td>\n",
              "      <td>Em lua de mel comÂ Augusto Aras, o presidente ...</td>\n",
              "      <td>bolsonaro envia carro de som com mensagem romã...</td>\n",
              "    </tr>\n",
              "    <tr>\n",
              "      <th>2</th>\n",
              "      <td>ultimas_noticias</td>\n",
              "      <td>Senado aprova linha de crÃ©dito de atÃ© R$ 100...</td>\n",
              "      <td>Medida de ajuda para profissionais liberais du...</td>\n",
              "      <td>senado aprova linha de crã©dito de atã© r$ 100...</td>\n",
              "    </tr>\n",
              "    <tr>\n",
              "      <th>3</th>\n",
              "      <td>ultimas_noticias</td>\n",
              "      <td>Paolla Oliveira diz que nÃ£o tem pudor com nud...</td>\n",
              "      <td>Atriz afirma que pessoas tÃªm imagem errada dela</td>\n",
              "      <td>paolla oliveira diz que nã£o tem pudor com nud...</td>\n",
              "    </tr>\n",
              "    <tr>\n",
              "      <th>4</th>\n",
              "      <td>ultimas_noticias</td>\n",
              "      <td>Lady Gaga pulsa com euforia em disco que a lev...</td>\n",
              "      <td>Depois de cantar country, jazz e levar uma est...</td>\n",
              "      <td>lady gaga pulsa com euforia em disco que a lev...</td>\n",
              "    </tr>\n",
              "  </tbody>\n",
              "</table>\n",
              "</div>"
            ],
            "text/plain": [
              "           category  ...                                               text\n",
              "0  ultimas_noticias  ...  eua acusam coreia do norte de lavar dinheiro p...\n",
              "1  ultimas_noticias  ...  bolsonaro envia carro de som com mensagem romã...\n",
              "2  ultimas_noticias  ...  senado aprova linha de crã©dito de atã© r$ 100...\n",
              "3  ultimas_noticias  ...  paolla oliveira diz que nã£o tem pudor com nud...\n",
              "4  ultimas_noticias  ...  lady gaga pulsa com euforia em disco que a lev...\n",
              "\n",
              "[5 rows x 4 columns]"
            ]
          },
          "metadata": {
            "tags": []
          },
          "execution_count": 127
        }
      ]
    },
    {
      "cell_type": "code",
      "metadata": {
        "id": "ZuzIB0ZgPthn",
        "colab_type": "code",
        "outputId": "1a95d09f-3150-4505-d395-545df857f87f",
        "colab": {
          "base_uri": "https://localhost:8080/",
          "height": 52
        }
      },
      "source": [
        "stopwords = nltk.corpus.stopwords.words('portuguese')\n",
        "vect = CountVectorizer(ngram_range=(1,1), stop_words=stopwords)\n",
        "vect.fit(folha.news_df.text)\n",
        "j = vect.transform(folha.news_df.text)\n",
        "model = train_decision_tree_classifier(j, folha.news_df.category, 0.3, 42)"
      ],
      "execution_count": 0,
      "outputs": [
        {
          "output_type": "stream",
          "text": [
            "Train Score \t= 0.9075391180654339\n",
            "Test Score \t= 0.34105960264900664\n"
          ],
          "name": "stdout"
        }
      ]
    },
    {
      "cell_type": "code",
      "metadata": {
        "id": "nKS34d7tQiaQ",
        "colab_type": "code",
        "colab": {}
      },
      "source": [
        "k = vect.transform(folha.last_news_df.text)"
      ],
      "execution_count": 0,
      "outputs": []
    },
    {
      "cell_type": "code",
      "metadata": {
        "id": "dlR86mEpRAfn",
        "colab_type": "code",
        "outputId": "585de5f3-4b31-4d3a-8f6e-0577789e0863",
        "colab": {
          "base_uri": "https://localhost:8080/",
          "height": 34
        }
      },
      "source": [
        "model.predict(k[4])"
      ],
      "execution_count": 0,
      "outputs": [
        {
          "output_type": "execute_result",
          "data": {
            "text/plain": [
              "array(['opinião'], dtype=object)"
            ]
          },
          "metadata": {
            "tags": []
          },
          "execution_count": 213
        }
      ]
    },
    {
      "cell_type": "code",
      "metadata": {
        "id": "hzkQ94XAScZH",
        "colab_type": "code",
        "outputId": "4eb55240-3bf4-475b-a072-16bad0cbf2a0",
        "colab": {
          "base_uri": "https://localhost:8080/",
          "height": 52
        }
      },
      "source": [
        "vect.transform(list('eua acusam coreia do norte de lavar dinheiro'))"
      ],
      "execution_count": 0,
      "outputs": [
        {
          "output_type": "execute_result",
          "data": {
            "text/plain": [
              "<44x5575 sparse matrix of type '<class 'numpy.int64'>'\n",
              "\twith 0 stored elements in Compressed Sparse Row format>"
            ]
          },
          "metadata": {
            "tags": []
          },
          "execution_count": 214
        }
      ]
    },
    {
      "cell_type": "code",
      "metadata": {
        "id": "v3yRgwsbUNSf",
        "colab_type": "code",
        "colab": {}
      },
      "source": [
        "folha.last_news_df['token'] = folha.last_news_df['text'].map(word_tokenize)\n",
        "folha.last_news_df['vect'] = folha.last_news_df['text'].apply(lambda x: vect.transform(list(x)))\n",
        "folha.last_news_df['category'] = folha.last_news_df['vect'].apply(lambda x:model.predict(x)[0])"
      ],
      "execution_count": 0,
      "outputs": []
    },
    {
      "cell_type": "code",
      "metadata": {
        "id": "Aj-NgBjNUbwP",
        "colab_type": "code",
        "outputId": "839f940f-5bd8-41e4-a439-b5769879329c",
        "colab": {
          "base_uri": "https://localhost:8080/",
          "height": 597
        }
      },
      "source": [
        "folha.last_news_df"
      ],
      "execution_count": 0,
      "outputs": [
        {
          "output_type": "execute_result",
          "data": {
            "text/html": [
              "<div>\n",
              "<style scoped>\n",
              "    .dataframe tbody tr th:only-of-type {\n",
              "        vertical-align: middle;\n",
              "    }\n",
              "\n",
              "    .dataframe tbody tr th {\n",
              "        vertical-align: top;\n",
              "    }\n",
              "\n",
              "    .dataframe thead th {\n",
              "        text-align: right;\n",
              "    }\n",
              "</style>\n",
              "<table border=\"1\" class=\"dataframe\">\n",
              "  <thead>\n",
              "    <tr style=\"text-align: right;\">\n",
              "      <th></th>\n",
              "      <th>category</th>\n",
              "      <th>title</th>\n",
              "      <th>subtitle</th>\n",
              "      <th>text</th>\n",
              "      <th>token</th>\n",
              "      <th>vect</th>\n",
              "    </tr>\n",
              "  </thead>\n",
              "  <tbody>\n",
              "    <tr>\n",
              "      <th>0</th>\n",
              "      <td>opinião</td>\n",
              "      <td>EUA acusam Coreia do Norte de lavar dinheiro p...</td>\n",
              "      <td>Segundo promotores americanos, 28 norte-corean...</td>\n",
              "      <td>eua acusam coreia do norte de lavar dinheiro p...</td>\n",
              "      <td>[eua, acusam, coreia, do, norte, de, lavar, di...</td>\n",
              "      <td></td>\n",
              "    </tr>\n",
              "    <tr>\n",
              "      <th>1</th>\n",
              "      <td>opinião</td>\n",
              "      <td>Bolsonaro envia carro de som com mensagem romÃ...</td>\n",
              "      <td>Em lua de mel comÂ Augusto Aras, o presidente ...</td>\n",
              "      <td>bolsonaro envia carro de som com mensagem romã...</td>\n",
              "      <td>[bolsonaro, envia, carro, de, som, com, mensag...</td>\n",
              "      <td></td>\n",
              "    </tr>\n",
              "    <tr>\n",
              "      <th>2</th>\n",
              "      <td>opinião</td>\n",
              "      <td>Senado aprova linha de crÃ©dito de atÃ© R$ 100...</td>\n",
              "      <td>Medida de ajuda para profissionais liberais du...</td>\n",
              "      <td>senado aprova linha de crã©dito de atã© r$ 100...</td>\n",
              "      <td>[senado, aprova, linha, de, crã©dito, de, atã©...</td>\n",
              "      <td></td>\n",
              "    </tr>\n",
              "    <tr>\n",
              "      <th>3</th>\n",
              "      <td>opinião</td>\n",
              "      <td>Paolla Oliveira diz que nÃ£o tem pudor com nud...</td>\n",
              "      <td>Atriz afirma que pessoas tÃªm imagem errada dela</td>\n",
              "      <td>paolla oliveira diz que nã£o tem pudor com nud...</td>\n",
              "      <td>[paolla, oliveira, diz, que, nã£o, tem, pudor,...</td>\n",
              "      <td></td>\n",
              "    </tr>\n",
              "    <tr>\n",
              "      <th>4</th>\n",
              "      <td>opinião</td>\n",
              "      <td>Lady Gaga pulsa com euforia em disco que a lev...</td>\n",
              "      <td>Depois de cantar country, jazz e levar uma est...</td>\n",
              "      <td>lady gaga pulsa com euforia em disco que a lev...</td>\n",
              "      <td>[lady, gaga, pulsa, com, euforia, em, disco, q...</td>\n",
              "      <td></td>\n",
              "    </tr>\n",
              "    <tr>\n",
              "      <th>...</th>\n",
              "      <td>...</td>\n",
              "      <td>...</td>\n",
              "      <td>...</td>\n",
              "      <td>...</td>\n",
              "      <td>...</td>\n",
              "      <td>...</td>\n",
              "    </tr>\n",
              "    <tr>\n",
              "      <th>94</th>\n",
              "      <td>opinião</td>\n",
              "      <td>Lady Gaga derrota Bolsonaro com chÃ¡ de cloroq...</td>\n",
              "      <td>Regina Duarte tambÃ©m aparece em animaÃ§Ã£o fe...</td>\n",
              "      <td>lady gaga derrota bolsonaro com chã¡ de cloroq...</td>\n",
              "      <td>[lady, gaga, derrota, bolsonaro, com, chã¡, de...</td>\n",
              "      <td></td>\n",
              "    </tr>\n",
              "    <tr>\n",
              "      <th>95</th>\n",
              "      <td>opinião</td>\n",
              "      <td>Roney Ã© flagrado beijando Josefina</td>\n",
              "      <td>Segunda (1) - Tato (Matheus Abreu) discute com...</td>\n",
              "      <td>roney ã© flagrado beijando josefina segunda (1...</td>\n",
              "      <td>[roney, ã©, flagrado, beijando, josefina, segu...</td>\n",
              "      <td></td>\n",
              "    </tr>\n",
              "    <tr>\n",
              "      <th>96</th>\n",
              "      <td>opinião</td>\n",
              "      <td>Netflix desiste de lanÃ§ar filmes em festivais...</td>\n",
              "      <td>Produtora nÃ£o prestigiarÃ¡ nenhuma mostra nes...</td>\n",
              "      <td>netflix desiste de lanã§ar filmes em festivais...</td>\n",
              "      <td>[netflix, desiste, de, lanã§ar, filmes, em, fe...</td>\n",
              "      <td></td>\n",
              "    </tr>\n",
              "    <tr>\n",
              "      <th>97</th>\n",
              "      <td>opinião</td>\n",
              "      <td>Vice-PresidÃªncia abre licitaÃ§Ã£o para compra...</td>\n",
              "      <td>Aparelho serÃ¡ usado por moradores, seguranÃ§a...</td>\n",
              "      <td>vice-presidãªncia abre licitaã§ã£o para compra...</td>\n",
              "      <td>[vice-presidãªncia, abre, licitaã§ã£o, para, c...</td>\n",
              "      <td></td>\n",
              "    </tr>\n",
              "    <tr>\n",
              "      <th>98</th>\n",
              "      <td>opinião</td>\n",
              "      <td>Harvard oferece 96 cursos grÃ¡tis a distÃ¢ncia</td>\n",
              "      <td>A Universidade Harvard disponibilizou, recente...</td>\n",
              "      <td>harvard oferece 96 cursos grã¡tis a distã¢ncia...</td>\n",
              "      <td>[harvard, oferece, 96, cursos, grã¡tis, a, dis...</td>\n",
              "      <td></td>\n",
              "    </tr>\n",
              "  </tbody>\n",
              "</table>\n",
              "<p>99 rows × 6 columns</p>\n",
              "</div>"
            ],
            "text/plain": [
              "   category  ... vect\n",
              "0   opinião  ...     \n",
              "1   opinião  ...     \n",
              "2   opinião  ...     \n",
              "3   opinião  ...     \n",
              "4   opinião  ...     \n",
              "..      ...  ...  ...\n",
              "94  opinião  ...     \n",
              "95  opinião  ...     \n",
              "96  opinião  ...     \n",
              "97  opinião  ...     \n",
              "98  opinião  ...     \n",
              "\n",
              "[99 rows x 6 columns]"
            ]
          },
          "metadata": {
            "tags": []
          },
          "execution_count": 216
        }
      ]
    },
    {
      "cell_type": "code",
      "metadata": {
        "id": "GuYe_JH5UeUz",
        "colab_type": "code",
        "colab": {}
      },
      "source": [
        "import numpy as np"
      ],
      "execution_count": 0,
      "outputs": []
    },
    {
      "cell_type": "code",
      "metadata": {
        "id": "tSS9cM7gWivS",
        "colab_type": "code",
        "outputId": "5a06f916-f672-44b3-c734-e3d0f105bd6d",
        "colab": {
          "base_uri": "https://localhost:8080/",
          "height": 34
        }
      },
      "source": [
        "np.array('Harvard oferece 96 cursos grÃ¡tis a distÃ¢ncia \t')"
      ],
      "execution_count": 0,
      "outputs": [
        {
          "output_type": "execute_result",
          "data": {
            "text/plain": [
              "array('Harvard oferece 96 cursos grÃ¡tis a distÃ¢ncia \\t', dtype='<U48')"
            ]
          },
          "metadata": {
            "tags": []
          },
          "execution_count": 202
        }
      ]
    },
    {
      "cell_type": "code",
      "metadata": {
        "id": "tR5_qR42WlWz",
        "colab_type": "code",
        "colab": {}
      },
      "source": [
        ""
      ],
      "execution_count": 0,
      "outputs": []
    }
  ]
}